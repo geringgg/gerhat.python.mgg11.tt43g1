{
  "nbformat": 4,
  "nbformat_minor": 0,
  "metadata": {
    "colab": {
      "name": "CNN Gerhat-Python Mgg11.ipynb",
      "provenance": [],
      "mount_file_id": "19u4l_bT7ExsAzGtjb6Y-Sle7WvFQ69i-",
      "authorship_tag": "ABX9TyOhf3X7+Cpa3bcv69kJXWj6",
      "include_colab_link": true
    },
    "kernelspec": {
      "name": "python3",
      "display_name": "Python 3"
    }
  },
  "cells": [
    {
      "cell_type": "markdown",
      "metadata": {
        "id": "view-in-github",
        "colab_type": "text"
      },
      "source": [
        "<a href=\"https://colab.research.google.com/github/geringgg/gerhat.python.mgg11.tt43g1/blob/main/CNN_Gerhat_Python_Mgg11.ipynb\" target=\"_parent\"><img src=\"https://colab.research.google.com/assets/colab-badge.svg\" alt=\"Open In Colab\"/></a>"
      ]
    },
    {
      "cell_type": "code",
      "metadata": {
        "colab": {
          "base_uri": "https://localhost:8080/"
        },
        "id": "URX6ziTyCIcY",
        "outputId": "0f74f2ca-be96-4259-fee9-2156c0c91795"
      },
      "source": [
        "cd/content/drive/MyDrive/dataset"
      ],
      "execution_count": null,
      "outputs": [
        {
          "output_type": "stream",
          "text": [
            "/content/drive/MyDrive/dataset\n"
          ],
          "name": "stdout"
        }
      ]
    },
    {
      "cell_type": "code",
      "metadata": {
        "id": "NT6Dh0hpCL2i"
      },
      "source": [
        "ls"
      ],
      "execution_count": null,
      "outputs": []
    },
    {
      "cell_type": "code",
      "metadata": {
        "id": "3slh8LunCTdG"
      },
      "source": [
        "# import the necessary packages\n",
        "from keras.models import Sequential\n",
        "from keras.layers.core import Activation\n",
        "from keras.layers.core import Flatten\n",
        "from keras.layers.core import Dense\n",
        "from keras.optimizers import Adam\n",
        "from sklearn.preprocessing import LabelBinarizer\n",
        "from sklearn.model_selection import train_test_split\n",
        "from sklearn.metrics import classification_report\n",
        "from PIL import Image\n",
        "from imutils import paths\n",
        "import numpy as np\n",
        "import os"
      ],
      "execution_count": null,
      "outputs": []
    },
    {
      "cell_type": "code",
      "metadata": {
        "colab": {
          "base_uri": "https://localhost:8080/"
        },
        "id": "u0cQOKLvCYXT",
        "outputId": "c8af80b1-cfe7-42f1-86df-888d8b446ffe"
      },
      "source": [
        "# grab all image paths in the input dataset directory, then initialize\n",
        "# our list of images and corresponding class labels\n",
        "print(\"[INFO] loading images...\")\n",
        "imagePaths = paths.list_images(\"Dataset\")\n",
        "data = []\n",
        "labels = []"
      ],
      "execution_count": null,
      "outputs": [
        {
          "output_type": "stream",
          "text": [
            "[INFO] loading images...\n"
          ],
          "name": "stdout"
        }
      ]
    },
    {
      "cell_type": "code",
      "metadata": {
        "id": "hVxymdpVCg4y"
      },
      "source": [
        "# loop over our input images\n",
        "for imagePath in imagePaths:\n",
        "\t# load the input image from disk, resize it to 64x64 pixels, scale\n",
        "\t# the pixel intensities to the range [0, 1], and then update our\n",
        "\t# images list\n",
        "\timage = Image.open(imagePath)\n",
        "  #preprocessing\n",
        "\timage = np.array(image.resize((64,64))) / 255.0 #normalisasi\n",
        "\tdata.append(image)\n",
        "\n",
        "\t# extract the class label from the file path and update the\n",
        "\t# labels list\n",
        "\tlabel = imagePath.split(os.path.sep)[-2]\n",
        "\tlabels.append(label)"
      ],
      "execution_count": null,
      "outputs": []
    },
    {
      "cell_type": "code",
      "metadata": {
        "colab": {
          "base_uri": "https://localhost:8080/"
        },
        "id": "0Yh3ucnHC0zZ",
        "outputId": "2d638ced-89f8-4988-c74a-e83e6c7bff06"
      },
      "source": [
        "print(labels)"
      ],
      "execution_count": null,
      "outputs": [
        {
          "output_type": "stream",
          "text": [
            "['GMB_01', 'GMB_01', 'GMB_01', 'GMB_01', 'GMB_01', 'GMB_01', 'GMB_01', 'GMB_01', 'GMB_01', 'GMB_01', 'GMB_01', 'GMB_01', 'GMB_01', 'GMB_01', 'GMB_01', 'GMB_01', 'GMB_01', 'GMB_01', 'GMB_01', 'GMB_01', 'GMB_01', 'GMB_01', 'GMB_01', 'GMB_01', 'GMB_01', 'GMB_01', 'GMB_01', 'GMB_01', 'GMB_01', 'GMB_01', 'GMB_01', 'GMB_01', 'GMB_01', 'GMB_01', 'GMB_01', 'GMB_01', 'GMB_01', 'GMB_01', 'GMB_01', 'GMB_01', 'GMB_01', 'GMB_01', 'GMB_01', 'GMB_01', 'GMB_01', 'GMB_01', 'GMB_01', 'GMB_01', 'GMB_01', 'GMB_01', 'GMB_01', 'GMB_01', 'GMB_01', 'GMB_01', 'GMB_01', 'GMB_01', 'GMB_01', 'GMB_01', 'GMB_01', 'GMB_01', 'GMB_01', 'GMB_01', 'GMB_01', 'GMB_01', 'GMB_01', 'GMB_01', 'GMB_01', 'GMB_01', 'GMB_01', 'GMB_01', 'GMB_01', 'GMB_01', 'GMB_01', 'GMB_01', 'GMB_01', 'GMB_01', 'GMB_01', 'GMB_01', 'GMB_01', 'GMB_01', 'GMB_01', 'GMB_01', 'GMB_01', 'GMB_01', 'GMB_01', 'GMB_01', 'GMB_01', 'GMB_01', 'GMB_01', 'GMB_01', 'GMB_01', 'GMB_01', 'GMB_01', 'GMB_01', 'GMB_01', 'GMB_01', 'GMB_01', 'GMB_01', 'GMB_01', 'GMB_01', 'GMB_01', 'GMB_01', 'GMB_01', 'GMB_01', 'GMB_01', 'GMB_01', 'GMB_01', 'GMB_01', 'GMB_01', 'GMB_01', 'GMB_01', 'GMB_01', 'GMB_01', 'GMB_01', 'GMB_01', 'GMB_01', 'GMB_04', 'GMB_04', 'GMB_04', 'GMB_04', 'GMB_04', 'GMB_04', 'GMB_04', 'GMB_04', 'GMB_04', 'GMB_04', 'GMB_04', 'GMB_04', 'GMB_04', 'GMB_04', 'GMB_04', 'GMB_04', 'GMB_04', 'GMB_04', 'GMB_04', 'GMB_04', 'GMB_04', 'GMB_04', 'GMB_04', 'GMB_04', 'GMB_04', 'GMB_04', 'GMB_04', 'GMB_04', 'GMB_04', 'GMB_04', 'GMB_04', 'GMB_04', 'GMB_04', 'GMB_04', 'GMB_04', 'GMB_04', 'GMB_04', 'GMB_04', 'GMB_04', 'GMB_04', 'GMB_04', 'GMB_04', 'GMB_04', 'GMB_04', 'GMB_04', 'GMB_04', 'GMB_04', 'GMB_04', 'GMB_04', 'GMB_04', 'GMB_04', 'GMB_04', 'GMB_04', 'GMB_04', 'GMB_04', 'GMB_04', 'GMB_04', 'GMB_04', 'GMB_04', 'GMB_04', 'GMB_04', 'GMB_04', 'GMB_04', 'GMB_04', 'GMB_04', 'GMB_04', 'GMB_04', 'GMB_04', 'GMB_04', 'GMB_04', 'GMB_04', 'GMB_04', 'GMB_04', 'GMB_04', 'GMB_04', 'GMB_04', 'GMB_04', 'GMB_04', 'GMB_04', 'GMB_04', 'GMB_04', 'GMB_04', 'GMB_04', 'GMB_04', 'GMB_04', 'GMB_04', 'GMB_04', 'GMB_04', 'GMB_04', 'GMB_04', 'GMB_04', 'GMB_04', 'GMB_04', 'GMB_04', 'GMB_04', 'GMB_04', 'GMB_04', 'GMB_04', 'GMB_04', 'GMB_04', 'GMB_04', 'GMB_04', 'GMB_04', 'GMB_04', 'GMB_04', 'GMB_04', 'GMB_04', 'GMB_04', 'GMB_04', 'GMB_04', 'GMB_04', 'GMB_04', 'GMB_04', 'GMB_04', 'GMB_04', 'GMB_04', 'GMB_04', 'GMB_04', 'GMB_04', 'GMB_04', 'GMB_04', 'GMB_04', 'GMB_05', 'GMB_05', 'GMB_05', 'GMB_05', 'GMB_05', 'GMB_05', 'GMB_05', 'GMB_05', 'GMB_05', 'GMB_05', 'GMB_05', 'GMB_05', 'GMB_05', 'GMB_05', 'GMB_05', 'GMB_05', 'GMB_05', 'GMB_05', 'GMB_05', 'GMB_05', 'GMB_05', 'GMB_05', 'GMB_05', 'GMB_05', 'GMB_05', 'GMB_05', 'GMB_05', 'GMB_05', 'GMB_05', 'GMB_05', 'GMB_05', 'GMB_05', 'GMB_05', 'GMB_05', 'GMB_05', 'GMB_05', 'GMB_05', 'GMB_05', 'GMB_05', 'GMB_05', 'GMB_05', 'GMB_05', 'GMB_05', 'GMB_05', 'GMB_05', 'GMB_05', 'GMB_05', 'GMB_05', 'GMB_05', 'GMB_05', 'GMB_05', 'GMB_05', 'GMB_05', 'GMB_05', 'GMB_05', 'GMB_05', 'GMB_05', 'GMB_05', 'GMB_05', 'GMB_05', 'GMB_05', 'GMB_05', 'GMB_05', 'GMB_05', 'GMB_05', 'GMB_05', 'GMB_05', 'GMB_05', 'GMB_05', 'GMB_05', 'GMB_05', 'GMB_05', 'GMB_05', 'GMB_05', 'GMB_05', 'GMB_05', 'GMB_05', 'GMB_05', 'GMB_05', 'GMB_05', 'GMB_05', 'GMB_05', 'GMB_05', 'GMB_05', 'GMB_05', 'GMB_05', 'GMB_05', 'GMB_05', 'GMB_05', 'GMB_05', 'GMB_05', 'GMB_05', 'GMB_05', 'GMB_05', 'GMB_05', 'GMB_05', 'GMB_05', 'GMB_05', 'GMB_05', 'GMB_05', 'GMB_05', 'GMB_05', 'GMB_05', 'GMB_05', 'GMB_05', 'GMB_05', 'GMB_05', 'GMB_05', 'GMB_05', 'GMB_05', 'GMB_05', 'GMB_05', 'GMB_05', 'GMB_05', 'GMB_05', 'GMB_05', 'GMB_05', 'GMB_05', 'GMB_05', 'GMB_05', 'GMB_05', 'GMB_03', 'GMB_03', 'GMB_03', 'GMB_03', 'GMB_03', 'GMB_03', 'GMB_03', 'GMB_03', 'GMB_03', 'GMB_03', 'GMB_03', 'GMB_03', 'GMB_03', 'GMB_03', 'GMB_03', 'GMB_03', 'GMB_03', 'GMB_03', 'GMB_03', 'GMB_03', 'GMB_03', 'GMB_03', 'GMB_03', 'GMB_03', 'GMB_03', 'GMB_03', 'GMB_03', 'GMB_03', 'GMB_03', 'GMB_03', 'GMB_03', 'GMB_03', 'GMB_03', 'GMB_03', 'GMB_03', 'GMB_03', 'GMB_03', 'GMB_03', 'GMB_03', 'GMB_03', 'GMB_03', 'GMB_03', 'GMB_03', 'GMB_03', 'GMB_03', 'GMB_03', 'GMB_03', 'GMB_03', 'GMB_03', 'GMB_03', 'GMB_03', 'GMB_03', 'GMB_03', 'GMB_03', 'GMB_03', 'GMB_03', 'GMB_03', 'GMB_03', 'GMB_03', 'GMB_03', 'GMB_03', 'GMB_03', 'GMB_03', 'GMB_03', 'GMB_03', 'GMB_03', 'GMB_03', 'GMB_03', 'GMB_03', 'GMB_03', 'GMB_03', 'GMB_03', 'GMB_03', 'GMB_03', 'GMB_03', 'GMB_03', 'GMB_03', 'GMB_03', 'GMB_03', 'GMB_03', 'GMB_03', 'GMB_03', 'GMB_03', 'GMB_03', 'GMB_03', 'GMB_03', 'GMB_03', 'GMB_03', 'GMB_03', 'GMB_03', 'GMB_03', 'GMB_03', 'GMB_03', 'GMB_03', 'GMB_03', 'GMB_03', 'GMB_03', 'GMB_03', 'GMB_03', 'GMB_03', 'GMB_03', 'GMB_03', 'GMB_03', 'GMB_03', 'GMB_03', 'GMB_03', 'GMB_03', 'GMB_03', 'GMB_03', 'GMB_03', 'GMB_03', 'GMB_03', 'GMB_02', 'GMB_02', 'GMB_02', 'GMB_02', 'GMB_02', 'GMB_02', 'GMB_02', 'GMB_02', 'GMB_02', 'GMB_02', 'GMB_02', 'GMB_02', 'GMB_02', 'GMB_02', 'GMB_02', 'GMB_02', 'GMB_02', 'GMB_02', 'GMB_02', 'GMB_02', 'GMB_02', 'GMB_02', 'GMB_02', 'GMB_02', 'GMB_02', 'GMB_02', 'GMB_02', 'GMB_02', 'GMB_02', 'GMB_02', 'GMB_02', 'GMB_02', 'GMB_02', 'GMB_02', 'GMB_02', 'GMB_02', 'GMB_02', 'GMB_02', 'GMB_02', 'GMB_02', 'GMB_02', 'GMB_02', 'GMB_02', 'GMB_02', 'GMB_02', 'GMB_02', 'GMB_02', 'GMB_02', 'GMB_02', 'GMB_02', 'GMB_02', 'GMB_02', 'GMB_02', 'GMB_02', 'GMB_02', 'GMB_02', 'GMB_02', 'GMB_02', 'GMB_02', 'GMB_02', 'GMB_02', 'GMB_02', 'GMB_02', 'GMB_02', 'GMB_02', 'GMB_02', 'GMB_02', 'GMB_02', 'GMB_02', 'GMB_02', 'GMB_02', 'GMB_02', 'GMB_02', 'GMB_02', 'GMB_02', 'GMB_02', 'GMB_02', 'GMB_02', 'GMB_02', 'GMB_02', 'GMB_02', 'GMB_02', 'GMB_02', 'GMB_02', 'GMB_02', 'GMB_02', 'GMB_02', 'GMB_02', 'GMB_02', 'GMB_02', 'GMB_02', 'GMB_02', 'GMB_02', 'GMB_02', 'GMB_02', 'GMB_02', 'GMB_02', 'GMB_02', 'GMB_02', 'GMB_02', 'GMB_02', 'GMB_02', 'GMB_02', 'GMB_02', 'GMB_02', 'GMB_02', 'GMB_02', 'GMB_02', 'GMB_02', 'GMB_02', 'GMB_02', 'GMB_02', 'GMB_02']\n"
          ],
          "name": "stdout"
        }
      ]
    },
    {
      "cell_type": "code",
      "metadata": {
        "id": "Fo4ZekMWGUee"
      },
      "source": [
        "# encode the labels, converting them from strings to integers\n",
        "lb = LabelBinarizer()\n",
        "labels = lb.fit_transform(labels)"
      ],
      "execution_count": null,
      "outputs": []
    },
    {
      "cell_type": "code",
      "metadata": {
        "colab": {
          "base_uri": "https://localhost:8080/"
        },
        "id": "BNXERFpcGW4t",
        "outputId": "845dc47a-5445-41db-f299-f6d3b5392ca4"
      },
      "source": [
        "print(labels)"
      ],
      "execution_count": null,
      "outputs": [
        {
          "output_type": "stream",
          "text": [
            "[[1 0 0 0 0]\n",
            " [1 0 0 0 0]\n",
            " [1 0 0 0 0]\n",
            " ...\n",
            " [0 1 0 0 0]\n",
            " [0 1 0 0 0]\n",
            " [0 1 0 0 0]]\n"
          ],
          "name": "stdout"
        }
      ]
    },
    {
      "cell_type": "code",
      "metadata": {
        "colab": {
          "base_uri": "https://localhost:8080/"
        },
        "id": "UpCha-HbGaaw",
        "outputId": "1e03f3f3-4ce2-4d6d-dd22-068fe185a400"
      },
      "source": [
        "# perform a training and testing split, using 75% of the data for\n",
        "# training and 25% for evaluation\n",
        "(trainX, testX, trainY, testY) = train_test_split(np.array(data),\tnp.array(labels), test_size=0.25, shuffle=True)\n",
        "print(trainX.shape)\n",
        "print(testX.shape)"
      ],
      "execution_count": null,
      "outputs": [
        {
          "output_type": "stream",
          "text": [
            "(438, 64, 64, 3)\n",
            "(146, 64, 64, 3)\n"
          ],
          "name": "stdout"
        }
      ]
    },
    {
      "cell_type": "code",
      "metadata": {
        "colab": {
          "base_uri": "https://localhost:8080/"
        },
        "id": "WN8gAA37GfnD",
        "outputId": "031dff27-0102-4126-e838-c8233ab341f8"
      },
      "source": [
        "\n",
        "\n",
        "from keras.layers import Convolution2D, MaxPooling2D\n",
        "from keras.models import Sequential\n",
        "from keras.layers.core import Flatten, Dense\n",
        "\n",
        "model1 = Sequential()\n",
        "model1.add(Convolution2D(16, (3,3), activation='relu', input_shape=(64,64,3)))\n",
        "model1.add(MaxPooling2D(2,2))\n",
        "model1.add(Convolution2D(16, (3,3), activation='relu'))\n",
        "model1.add(MaxPooling2D(2,2))\n",
        "#fully connected layer\n",
        "model1.add(Flatten())\n",
        "model1.add(Dense(100, activation='relu'))\n",
        "model1.add(Dense(5, activation='softmax'))\n",
        "\n",
        "model1.summary()\n",
        "\n"
      ],
      "execution_count": null,
      "outputs": [
        {
          "output_type": "stream",
          "text": [
            "Model: \"sequential_10\"\n",
            "_________________________________________________________________\n",
            "Layer (type)                 Output Shape              Param #   \n",
            "=================================================================\n",
            "conv2d_17 (Conv2D)           (None, 62, 62, 16)        448       \n",
            "_________________________________________________________________\n",
            "max_pooling2d_13 (MaxPooling (None, 31, 31, 16)        0         \n",
            "_________________________________________________________________\n",
            "conv2d_18 (Conv2D)           (None, 29, 29, 16)        2320      \n",
            "_________________________________________________________________\n",
            "max_pooling2d_14 (MaxPooling (None, 14, 14, 16)        0         \n",
            "_________________________________________________________________\n",
            "flatten_6 (Flatten)          (None, 3136)              0         \n",
            "_________________________________________________________________\n",
            "dense_12 (Dense)             (None, 100)               313700    \n",
            "_________________________________________________________________\n",
            "dense_13 (Dense)             (None, 5)                 505       \n",
            "=================================================================\n",
            "Total params: 316,973\n",
            "Trainable params: 316,973\n",
            "Non-trainable params: 0\n",
            "_________________________________________________________________\n"
          ],
          "name": "stdout"
        }
      ]
    },
    {
      "cell_type": "code",
      "metadata": {
        "colab": {
          "base_uri": "https://localhost:8080/"
        },
        "id": "Iyuzoe0MHwH3",
        "outputId": "43554d05-604a-4326-d229-0b0b8b143def"
      },
      "source": [
        "# train the model using the Adam optimizer\n",
        "print(\"[INFO] training network...\")\n",
        "opt = Adam(lr=1e-3, decay=1e-3 / 50)\n",
        "model1.compile(loss=\"categorical_crossentropy\", optimizer=opt, metrics=[\"accuracy\"])"
      ],
      "execution_count": null,
      "outputs": [
        {
          "output_type": "stream",
          "text": [
            "[INFO] training network...\n"
          ],
          "name": "stdout"
        }
      ]
    },
    {
      "cell_type": "code",
      "metadata": {
        "colab": {
          "base_uri": "https://localhost:8080/"
        },
        "id": "cmWPU0z0H4D5",
        "outputId": "7ad11684-0665-43e5-960e-a5e9c178aec9"
      },
      "source": [
        "H = model1.fit(trainX, trainY, validation_data=(testX, testY), epochs=50, batch_size=32)"
      ],
      "execution_count": null,
      "outputs": [
        {
          "output_type": "stream",
          "text": [
            "Epoch 1/50\n",
            "14/14 [==============================] - 1s 93ms/step - loss: 1.6587 - accuracy: 0.2100 - val_loss: 1.5883 - val_accuracy: 0.2123\n",
            "Epoch 2/50\n",
            "14/14 [==============================] - 1s 82ms/step - loss: 1.5491 - accuracy: 0.3995 - val_loss: 1.5144 - val_accuracy: 0.3836\n",
            "Epoch 3/50\n",
            "14/14 [==============================] - 1s 83ms/step - loss: 1.4462 - accuracy: 0.4338 - val_loss: 1.3917 - val_accuracy: 0.4178\n",
            "Epoch 4/50\n",
            "14/14 [==============================] - 1s 82ms/step - loss: 1.2836 - accuracy: 0.4612 - val_loss: 1.3197 - val_accuracy: 0.3767\n",
            "Epoch 5/50\n",
            "14/14 [==============================] - 1s 83ms/step - loss: 1.1269 - accuracy: 0.5594 - val_loss: 1.1744 - val_accuracy: 0.5068\n",
            "Epoch 6/50\n",
            "14/14 [==============================] - 1s 84ms/step - loss: 1.0456 - accuracy: 0.5548 - val_loss: 1.1378 - val_accuracy: 0.4932\n",
            "Epoch 7/50\n",
            "14/14 [==============================] - 1s 84ms/step - loss: 0.9366 - accuracy: 0.6142 - val_loss: 1.1585 - val_accuracy: 0.5479\n",
            "Epoch 8/50\n",
            "14/14 [==============================] - 1s 83ms/step - loss: 0.8972 - accuracy: 0.6553 - val_loss: 1.0841 - val_accuracy: 0.5411\n",
            "Epoch 9/50\n",
            "14/14 [==============================] - 1s 84ms/step - loss: 0.8006 - accuracy: 0.7009 - val_loss: 1.0371 - val_accuracy: 0.5548\n",
            "Epoch 10/50\n",
            "14/14 [==============================] - 1s 83ms/step - loss: 0.7379 - accuracy: 0.7283 - val_loss: 0.9097 - val_accuracy: 0.6027\n",
            "Epoch 11/50\n",
            "14/14 [==============================] - 1s 85ms/step - loss: 0.6477 - accuracy: 0.7671 - val_loss: 0.8985 - val_accuracy: 0.6644\n",
            "Epoch 12/50\n",
            "14/14 [==============================] - 1s 84ms/step - loss: 0.6247 - accuracy: 0.7763 - val_loss: 1.0305 - val_accuracy: 0.6370\n",
            "Epoch 13/50\n",
            "14/14 [==============================] - 1s 84ms/step - loss: 0.5884 - accuracy: 0.7968 - val_loss: 0.8259 - val_accuracy: 0.7260\n",
            "Epoch 14/50\n",
            "14/14 [==============================] - 1s 85ms/step - loss: 0.5627 - accuracy: 0.7740 - val_loss: 0.8332 - val_accuracy: 0.7055\n",
            "Epoch 15/50\n",
            "14/14 [==============================] - 1s 83ms/step - loss: 0.5241 - accuracy: 0.8242 - val_loss: 0.8719 - val_accuracy: 0.7123\n",
            "Epoch 16/50\n",
            "14/14 [==============================] - 1s 84ms/step - loss: 0.4590 - accuracy: 0.8425 - val_loss: 0.7551 - val_accuracy: 0.7397\n",
            "Epoch 17/50\n",
            "14/14 [==============================] - 1s 84ms/step - loss: 0.4039 - accuracy: 0.8676 - val_loss: 0.7986 - val_accuracy: 0.7123\n",
            "Epoch 18/50\n",
            "14/14 [==============================] - 1s 84ms/step - loss: 0.3727 - accuracy: 0.8881 - val_loss: 0.7790 - val_accuracy: 0.7123\n",
            "Epoch 19/50\n",
            "14/14 [==============================] - 1s 85ms/step - loss: 0.3775 - accuracy: 0.8676 - val_loss: 0.8521 - val_accuracy: 0.7260\n",
            "Epoch 20/50\n",
            "14/14 [==============================] - 1s 85ms/step - loss: 0.3532 - accuracy: 0.8790 - val_loss: 0.8747 - val_accuracy: 0.7055\n",
            "Epoch 21/50\n",
            "14/14 [==============================] - 1s 83ms/step - loss: 0.3381 - accuracy: 0.8744 - val_loss: 0.8620 - val_accuracy: 0.6849\n",
            "Epoch 22/50\n",
            "14/14 [==============================] - 1s 84ms/step - loss: 0.3325 - accuracy: 0.8699 - val_loss: 0.7986 - val_accuracy: 0.7397\n",
            "Epoch 23/50\n",
            "14/14 [==============================] - 1s 85ms/step - loss: 0.2859 - accuracy: 0.9087 - val_loss: 0.7291 - val_accuracy: 0.7808\n",
            "Epoch 24/50\n",
            "14/14 [==============================] - 1s 84ms/step - loss: 0.2674 - accuracy: 0.9110 - val_loss: 0.8011 - val_accuracy: 0.7397\n",
            "Epoch 25/50\n",
            "14/14 [==============================] - 1s 84ms/step - loss: 0.2737 - accuracy: 0.9110 - val_loss: 0.7917 - val_accuracy: 0.7808\n",
            "Epoch 26/50\n",
            "14/14 [==============================] - 1s 85ms/step - loss: 0.2709 - accuracy: 0.9018 - val_loss: 0.9068 - val_accuracy: 0.7260\n",
            "Epoch 27/50\n",
            "14/14 [==============================] - 1s 84ms/step - loss: 0.2322 - accuracy: 0.9269 - val_loss: 0.9226 - val_accuracy: 0.7397\n",
            "Epoch 28/50\n",
            "14/14 [==============================] - 1s 86ms/step - loss: 0.2096 - accuracy: 0.9201 - val_loss: 0.8345 - val_accuracy: 0.7534\n",
            "Epoch 29/50\n",
            "14/14 [==============================] - 1s 84ms/step - loss: 0.1789 - accuracy: 0.9498 - val_loss: 0.7498 - val_accuracy: 0.7740\n",
            "Epoch 30/50\n",
            "14/14 [==============================] - 1s 84ms/step - loss: 0.1947 - accuracy: 0.9292 - val_loss: 0.7289 - val_accuracy: 0.7945\n",
            "Epoch 31/50\n",
            "14/14 [==============================] - 1s 83ms/step - loss: 0.2020 - accuracy: 0.9315 - val_loss: 0.8147 - val_accuracy: 0.7466\n",
            "Epoch 32/50\n",
            "14/14 [==============================] - 1s 84ms/step - loss: 0.1938 - accuracy: 0.9247 - val_loss: 0.7943 - val_accuracy: 0.7603\n",
            "Epoch 33/50\n",
            "14/14 [==============================] - 1s 83ms/step - loss: 0.1756 - accuracy: 0.9315 - val_loss: 0.7447 - val_accuracy: 0.7740\n",
            "Epoch 34/50\n",
            "14/14 [==============================] - 1s 84ms/step - loss: 0.1595 - accuracy: 0.9452 - val_loss: 0.7912 - val_accuracy: 0.7808\n",
            "Epoch 35/50\n",
            "14/14 [==============================] - 1s 86ms/step - loss: 0.1278 - accuracy: 0.9658 - val_loss: 0.9260 - val_accuracy: 0.7466\n",
            "Epoch 36/50\n",
            "14/14 [==============================] - 1s 85ms/step - loss: 0.1423 - accuracy: 0.9566 - val_loss: 0.8575 - val_accuracy: 0.7466\n",
            "Epoch 37/50\n",
            "14/14 [==============================] - 1s 84ms/step - loss: 0.1345 - accuracy: 0.9566 - val_loss: 0.8438 - val_accuracy: 0.7808\n",
            "Epoch 38/50\n",
            "14/14 [==============================] - 1s 85ms/step - loss: 0.1197 - accuracy: 0.9658 - val_loss: 0.8098 - val_accuracy: 0.7877\n",
            "Epoch 39/50\n",
            "14/14 [==============================] - 1s 85ms/step - loss: 0.1241 - accuracy: 0.9566 - val_loss: 0.8664 - val_accuracy: 0.7671\n",
            "Epoch 40/50\n",
            "14/14 [==============================] - 1s 84ms/step - loss: 0.1093 - accuracy: 0.9658 - val_loss: 0.8087 - val_accuracy: 0.8082\n",
            "Epoch 41/50\n",
            "14/14 [==============================] - 1s 85ms/step - loss: 0.0751 - accuracy: 0.9932 - val_loss: 0.8424 - val_accuracy: 0.8014\n",
            "Epoch 42/50\n",
            "14/14 [==============================] - 1s 84ms/step - loss: 0.0778 - accuracy: 0.9795 - val_loss: 0.9282 - val_accuracy: 0.7740\n",
            "Epoch 43/50\n",
            "14/14 [==============================] - 1s 84ms/step - loss: 0.0803 - accuracy: 0.9840 - val_loss: 0.8684 - val_accuracy: 0.7740\n",
            "Epoch 44/50\n",
            "14/14 [==============================] - 1s 84ms/step - loss: 0.1205 - accuracy: 0.9452 - val_loss: 1.0708 - val_accuracy: 0.7192\n",
            "Epoch 45/50\n",
            "14/14 [==============================] - 1s 84ms/step - loss: 0.0899 - accuracy: 0.9703 - val_loss: 0.8917 - val_accuracy: 0.8014\n",
            "Epoch 46/50\n",
            "14/14 [==============================] - 1s 83ms/step - loss: 0.0603 - accuracy: 0.9886 - val_loss: 0.8731 - val_accuracy: 0.7877\n",
            "Epoch 47/50\n",
            "14/14 [==============================] - 1s 84ms/step - loss: 0.0620 - accuracy: 0.9863 - val_loss: 0.9553 - val_accuracy: 0.7945\n",
            "Epoch 48/50\n",
            "14/14 [==============================] - 1s 85ms/step - loss: 0.0603 - accuracy: 0.9909 - val_loss: 0.9803 - val_accuracy: 0.7877\n",
            "Epoch 49/50\n",
            "14/14 [==============================] - 1s 85ms/step - loss: 0.0538 - accuracy: 0.9954 - val_loss: 0.8909 - val_accuracy: 0.8288\n",
            "Epoch 50/50\n",
            "14/14 [==============================] - 1s 85ms/step - loss: 0.0453 - accuracy: 0.9932 - val_loss: 0.9097 - val_accuracy: 0.8082\n"
          ],
          "name": "stdout"
        }
      ]
    },
    {
      "cell_type": "code",
      "metadata": {
        "colab": {
          "base_uri": "https://localhost:8080/",
          "height": 591
        },
        "id": "4lws7i-6LuWP",
        "outputId": "15224dd9-5486-4a7b-aebf-eda838462ee8"
      },
      "source": [
        "import matplotlib.pyplot as plt\n",
        "\n",
        "print(H.history.keys())\n",
        "# summarize history for accuracy\n",
        "plt.plot(H.history['accuracy'])\n",
        "plt.plot(H.history['val_accuracy'])\n",
        "plt.title('model accuracy')\n",
        "plt.ylabel('accuracy')\n",
        "plt.xlabel('epoch')\n",
        "plt.legend(['train', 'test'], loc='upper left')\n",
        "plt.show()\n",
        "# summarize history for loss\n",
        "plt.plot(H.history['loss'])\n",
        "plt.plot(H.history['val_loss'])\n",
        "plt.title('model loss')\n",
        "plt.ylabel('loss')\n",
        "plt.xlabel('epoch')\n",
        "plt.legend(['train', 'test'], loc='upper left')\n",
        "plt.show()"
      ],
      "execution_count": null,
      "outputs": [
        {
          "output_type": "stream",
          "text": [
            "dict_keys(['loss', 'accuracy', 'val_loss', 'val_accuracy'])\n"
          ],
          "name": "stdout"
        },
        {
          "output_type": "display_data",
          "data": {
            "image/png": "[encoded data removed]",
            "text/plain": [
              "<Figure size 432x288 with 1 Axes>"
            ]
          },
          "metadata": {
            "tags": [],
            "needs_background": "light"
          }
        },
        {
          "output_type": "display_data",
          "data": {
            "image/png": "[encoded data removed]",
            "text/plain": [
              "<Figure size 432x288 with 1 Axes>"
            ]
          },
          "metadata": {
            "tags": [],
            "needs_background": "light"
          }
        }
      ]
    },
    {
      "cell_type": "code",
      "metadata": {
        "colab": {
          "base_uri": "https://localhost:8080/"
        },
        "id": "VZgOo0NRLyra",
        "outputId": "6ee8f517-5c10-40c2-dc90-a49c66316685"
      },
      "source": [
        "# evaluate the network\n",
        "print(\"[INFO] evaluating network...\")\n",
        "predictions = model1.predict(testX, batch_size=32)\n",
        "print(classification_report(testY.argmax(axis=1),\n",
        "\tpredictions.argmax(axis=1), target_names=lb.classes_))"
      ],
      "execution_count": null,
      "outputs": [
        {
          "output_type": "stream",
          "text": [
            "[INFO] evaluating network...\n",
            "              precision    recall  f1-score   support\n",
            "\n",
            "      GMB_01       0.71      0.92      0.80        24\n",
            "      GMB_02       0.84      0.68      0.75        31\n",
            "      GMB_03       0.81      0.65      0.72        26\n",
            "      GMB_04       0.90      0.87      0.89        31\n",
            "      GMB_05       0.79      0.91      0.85        34\n",
            "\n",
            "    accuracy                           0.81       146\n",
            "   macro avg       0.81      0.81      0.80       146\n",
            "weighted avg       0.82      0.81      0.81       146\n",
            "\n"
          ],
          "name": "stdout"
        }
      ]
    }
  ]
}